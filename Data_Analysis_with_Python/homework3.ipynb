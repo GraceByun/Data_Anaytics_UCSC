{
 "cells": [
  {
   "cell_type": "markdown",
   "metadata": {},
   "source": [
    "# Question 1: 5 points\n",
    "\n",
    "The standard form of a quadratic expression is ax^2 + bx + c where a, b and c are real numbers and a is not equal to zero. The degree of a quadratic expression is 2 and a, b and c are called the coefficients. For example, in the quadratic expression (3x^2 + 8x − 5), the coefficients a, b, and c are 3, 8 and -5 respectively. Define and use a Python class called ‘Quadratic’ that can perform operations on quadratic expressions such as addition and subtraction. The Python object that will create this class will be used as shown below: Q1 = Quadratic(3,8,-5) This corresponds to the expression above. Define another Python object Q2 as follows Q2 = Quadratic(2,3,7) which corresponds to the quadratic expression 2x^2 + 3x + 7\n",
    "Part I – Addition and subtraction of quadratic expressions Perform the addition and subtraction operation by using operator overloading. Make the following Python calls: quadsum = Q1+Q2 quaddiff = Q1-Q2 Print the values of quadsum and quaddiff. The output on your screen must be similar to the one below. The sum is 5x^2+11x+2 The difference is x^2+5x-12\n",
    "Part II – Equality operator for quadratic expressions Two quadratic expressions are equal only if all the corresponding coefficients are equal. Define an equality operator that will return ‘True’ if two quadratic expressions are equal and ‘False’ when they are not equal. For example, in this code for Q1 == Q1, the value must be ‘True’ and for Q1 == Q2, the value must be ‘False'."
   ]
  },
  {
   "cell_type": "code",
   "execution_count": 1,
   "metadata": {},
   "outputs": [
    {
     "name": "stdout",
     "output_type": "stream",
     "text": [
      "Quadratic(-3x^2+6x+10)\n",
      "Quadratic(11x^2-10x-4)\n",
      "False\n",
      "True\n"
     ]
    }
   ],
   "source": [
    "class Quadratic():\n",
    "    \n",
    "    def __init__(self, first, second, third):\n",
    "        self.first = first\n",
    "        self.second = second\n",
    "        self.third = third\n",
    "        \n",
    "    def __add__(self, other):\n",
    "        return 'Quadratic(%dx^2%+dx%+d)'% (self.first + other.first, self.second +other.second, self.third + other.third)\n",
    "            \n",
    "        \n",
    "    def __sub__(self, other): \n",
    "        return 'Quadratic(%dx^2%+dx%+d)'% (self.first - other.first , self.second - other.second, self.third - other.third)\n",
    "        \n",
    "    def __eq__(self, other):\n",
    "        if self.first == other.first and self.second == other.second and self.third == other.third:\n",
    "            return True\n",
    "        else:\n",
    "            return False\n",
    "    \n",
    "Q1 = Quadratic(4,-2,3)\n",
    "Q2 = Quadratic(-7,8,7)\n",
    "\n",
    "quadsum = Q1+Q2\n",
    "quaddiff = Q1-Q2\n",
    "\n",
    "print(quadsum)\n",
    "print(quaddiff)\n",
    "\n",
    "print(Q1 == Q2)\n",
    "print(Q1 == Q1)"
   ]
  },
  {
   "cell_type": "markdown",
   "metadata": {},
   "source": [
    "# Question 2: 5 points\n",
    "\n",
    "Write a program that will read the file, 'red-headed-league.txt', count the frequency of the words and store it as a csv file.\n",
    "Create a class called WordCounter with the following methods.\n",
    "def init(self,filename) where filename is the name of the text file, 'red-headed-league.txt'. This function should read the text file\n",
    "def removepunctuation(self) must remove all the punctuations and leave only alphabets and numbers in each word\n",
    "def findcount(self) must count the frequency of each word and store it in a instance variable called countdict\n",
    "def writecountfile(self,csvfilename) writes the content of the countdict variable to a csv file with two columns. The first column is the word and second column is the count.\n",
    "Create an instance of the class and call appropriate method and store the result in a csv file. Printout the five most popular words.\n",
    "NOTE: DO NOT USE THE COUNTER DATA STRUCTURE IN COLLECTIONS MODULE."
   ]
  },
  {
   "cell_type": "code",
   "execution_count": 1,
   "metadata": {},
   "outputs": [],
   "source": [
    "import string\n",
    "import csv\n",
    "\n",
    "class WordCounter():\n",
    "    def __init__(self,filename,remove =[],sort =[], countdict ={ }):\n",
    "        self.filename = open(filename,'r')\n",
    "        self.countdict = countdict\n",
    "        self.remove = remove\n",
    "        self.sort = sort\n",
    "        \n",
    "    def removepuntuation(self):\n",
    "        self.remove = self.filename.read().translate(str.maketrans(\"\", \"\", string.punctuation))\n",
    "        print(self.remove)\n",
    "        \n",
    "    def findcount(self): \n",
    "        for key in self.remove.lower().split(): \n",
    "            self.countdict[key] = self.countdict.get(key, 0) + 1\n",
    "            \n",
    "        self.sort = sorted(self.countdict.items(), key = lambda x: x[1], reverse=True)\n",
    "        print(self.sort)\n",
    "            \n",
    "        \n",
    "    def writecoundtfile(self, csvfilename):\n",
    "        with open(csvfilename, 'w', newline='') as f:\n",
    "            fieldnames =['Word','Count']\n",
    "            writer = csv.DictWriter(f, fieldnames=fieldnames)\n",
    "            \n",
    "            writer.writeheader()\n",
    "            for key, value in self.sort:\n",
    "                writer.writerow({'Word': key, 'Count': value})\n",
    "                \n",
    "              "
   ]
  },
  {
   "cell_type": "code",
   "execution_count": 2,
   "metadata": {},
   "outputs": [],
   "source": [
    "a = WordCounter('red-headed-league.txt')"
   ]
  },
  {
   "cell_type": "code",
   "execution_count": 3,
   "metadata": {},
   "outputs": [
    {
     "name": "stdout",
     "output_type": "stream",
     "text": [
      "I had called upon my friend Mr Sherlock Holmes one day in the autumn of last year and found him in deep conversation with a very stout floridfaced elderly gentleman with fiery red hair With an apology for my intrusion I was about to withdraw when Holmes pulled me abruptly into the room and closed the door behind me You could not possibly have come at a better time my dear Watson he said cordially I was afraid that you were engaged So I am Very much so Then I can wait in the next room Not at all This gentleman Mr Wilson has been my partner and helper in many of my most successful cases and I have no doubt that he will be of the utmost use to me in yours also The stout gentleman half rose from his chair and gave a bob of greeting with a quick little questioning glance from his small fatencircled eyes Try the settee said Holmes relapsing into his armchair and putting his fingertips together as was his custom when in judicial moods I know my dear Watson that you share my love of all that is bizarre and outside the conventions and humdrum routine of everyday life You have shown your relish for it by the enthusiasm which has prompted you to chronicle and if you will excuse my saying so somewhat to embellish so many of my own little adventures Your cases have indeed been of the greatest interest to me I observed You will remember that I remarked the other day just before we went into the very simple problem presented by Miss Mary Sutherland that for strange effects and extraordinary combinations we must go to life itself which is always far more daring than any effort of the imagination A proposition which I took the liberty of doubting You did Doctor but none the less you must come round to my view for otherwise I shall keep on piling fact upon fact on you until your reason breaks down under them and acknowledges me to be right Now Mr Jabez Wilson here has been good enough to call upon me this morning and to begin a narrative which promises to be one of the most singular which I have listened to for some time You have heard me remark that the strangest and most unique things are very often connected not with the larger but with the smaller crimes and occasionally indeed where there is room for doubt whether any positive crime has been committed As far as I have heard it is impossible for me to say whether the present case is an instance of crime or not but the course of events is certainly among the most singular that I have ever listened to Perhaps Mr Wilson you would have the great kindness to recommence your narrative I ask you not merely because my friend Dr Watson has not heard the opening part but also because the peculiar nature of the story makes me anxious to have every possible detail from your lips As a rule when I have heard some slight indication of the course of events I am able to guide myself by the thousands of other similar cases which occur to my memory In the present instance I am forced to admit that the facts are to the best of my belief unique \n"
     ]
    }
   ],
   "source": [
    "a.removepuntuation()"
   ]
  },
  {
   "cell_type": "code",
   "execution_count": 4,
   "metadata": {},
   "outputs": [
    {
     "name": "stdout",
     "output_type": "stream",
     "text": [
      "[('the', 31), ('to', 20), ('i', 18), ('of', 18), ('and', 14), ('my', 13), ('you', 13), ('have', 11), ('me', 9), ('that', 9), ('in', 7), ('a', 7), ('for', 7), ('with', 6), ('not', 6), ('is', 6), ('which', 6), ('has', 5), ('his', 5), ('your', 5), ('mr', 4), ('very', 4), ('so', 4), ('been', 4), ('most', 4), ('as', 4), ('but', 4), ('heard', 4), ('upon', 3), ('holmes', 3), ('gentleman', 3), ('was', 3), ('when', 3), ('into', 3), ('room', 3), ('watson', 3), ('am', 3), ('wilson', 3), ('cases', 3), ('will', 3), ('be', 3), ('from', 3), ('by', 3), ('friend', 2), ('one', 2), ('day', 2), ('stout', 2), ('an', 2), ('come', 2), ('at', 2), ('time', 2), ('dear', 2), ('he', 2), ('said', 2), ('all', 2), ('this', 2), ('many', 2), ('doubt', 2), ('also', 2), ('little', 2), ('life', 2), ('it', 2), ('indeed', 2), ('other', 2), ('we', 2), ('must', 2), ('far', 2), ('any', 2), ('on', 2), ('fact', 2), ('narrative', 2), ('singular', 2), ('listened', 2), ('some', 2), ('unique', 2), ('are', 2), ('whether', 2), ('crime', 2), ('present', 2), ('instance', 2), ('course', 2), ('events', 2), ('because', 2), ('had', 1), ('called', 1), ('sherlock', 1), ('autumn', 1), ('last', 1), ('year', 1), ('found', 1), ('him', 1), ('deep', 1), ('conversation', 1), ('floridfaced', 1), ('elderly', 1), ('fiery', 1), ('red', 1), ('hair', 1), ('apology', 1), ('intrusion', 1), ('about', 1), ('withdraw', 1), ('pulled', 1), ('abruptly', 1), ('closed', 1), ('door', 1), ('behind', 1), ('could', 1), ('possibly', 1), ('better', 1), ('cordially', 1), ('afraid', 1), ('were', 1), ('engaged', 1), ('much', 1), ('then', 1), ('can', 1), ('wait', 1), ('next', 1), ('partner', 1), ('helper', 1), ('successful', 1), ('no', 1), ('utmost', 1), ('use', 1), ('yours', 1), ('half', 1), ('rose', 1), ('chair', 1), ('gave', 1), ('bob', 1), ('greeting', 1), ('quick', 1), ('questioning', 1), ('glance', 1), ('small', 1), ('fatencircled', 1), ('eyes', 1), ('try', 1), ('settee', 1), ('relapsing', 1), ('armchair', 1), ('putting', 1), ('fingertips', 1), ('together', 1), ('custom', 1), ('judicial', 1), ('moods', 1), ('know', 1), ('share', 1), ('love', 1), ('bizarre', 1), ('outside', 1), ('conventions', 1), ('humdrum', 1), ('routine', 1), ('everyday', 1), ('shown', 1), ('relish', 1), ('enthusiasm', 1), ('prompted', 1), ('chronicle', 1), ('if', 1), ('excuse', 1), ('saying', 1), ('somewhat', 1), ('embellish', 1), ('own', 1), ('adventures', 1), ('greatest', 1), ('interest', 1), ('observed', 1), ('remember', 1), ('remarked', 1), ('just', 1), ('before', 1), ('went', 1), ('simple', 1), ('problem', 1), ('presented', 1), ('miss', 1), ('mary', 1), ('sutherland', 1), ('strange', 1), ('effects', 1), ('extraordinary', 1), ('combinations', 1), ('go', 1), ('itself', 1), ('always', 1), ('more', 1), ('daring', 1), ('than', 1), ('effort', 1), ('imagination', 1), ('proposition', 1), ('took', 1), ('liberty', 1), ('doubting', 1), ('did', 1), ('doctor', 1), ('none', 1), ('less', 1), ('round', 1), ('view', 1), ('otherwise', 1), ('shall', 1), ('keep', 1), ('piling', 1), ('until', 1), ('reason', 1), ('breaks', 1), ('down', 1), ('under', 1), ('them', 1), ('acknowledges', 1), ('right', 1), ('now', 1), ('jabez', 1), ('here', 1), ('good', 1), ('enough', 1), ('call', 1), ('morning', 1), ('begin', 1), ('promises', 1), ('remark', 1), ('strangest', 1), ('things', 1), ('often', 1), ('connected', 1), ('larger', 1), ('smaller', 1), ('crimes', 1), ('occasionally', 1), ('where', 1), ('there', 1), ('positive', 1), ('committed', 1), ('impossible', 1), ('say', 1), ('case', 1), ('or', 1), ('certainly', 1), ('among', 1), ('ever', 1), ('perhaps', 1), ('would', 1), ('great', 1), ('kindness', 1), ('recommence', 1), ('ask', 1), ('merely', 1), ('dr', 1), ('opening', 1), ('part', 1), ('peculiar', 1), ('nature', 1), ('story', 1), ('makes', 1), ('anxious', 1), ('every', 1), ('possible', 1), ('detail', 1), ('lips', 1), ('rule', 1), ('slight', 1), ('indication', 1), ('able', 1), ('guide', 1), ('myself', 1), ('thousands', 1), ('similar', 1), ('occur', 1), ('memory', 1), ('forced', 1), ('admit', 1), ('facts', 1), ('best', 1), ('belief', 1)]\n"
     ]
    }
   ],
   "source": [
    "a.findcount()"
   ]
  },
  {
   "cell_type": "code",
   "execution_count": 5,
   "metadata": {},
   "outputs": [],
   "source": [
    "a.writecoundtfile('example.csv')"
   ]
  },
  {
   "cell_type": "code",
   "execution_count": 6,
   "metadata": {},
   "outputs": [
    {
     "name": "stdout",
     "output_type": "stream",
     "text": [
      "['Word,Count\\n', 'the,31\\n', 'to,20\\n', 'i,18\\n', 'of,18\\n', 'and,14\\n']\n"
     ]
    }
   ],
   "source": [
    "with open('example.csv') as f:\n",
    "    popular = [next(f) for x in range(6)]\n",
    "print(popular)"
   ]
  },
  {
   "cell_type": "code",
   "execution_count": null,
   "metadata": {},
   "outputs": [],
   "source": []
  }
 ],
 "metadata": {
  "kernelspec": {
   "display_name": "Python 3",
   "language": "python",
   "name": "python3"
  },
  "language_info": {
   "codemirror_mode": {
    "name": "ipython",
    "version": 3
   },
   "file_extension": ".py",
   "mimetype": "text/x-python",
   "name": "python",
   "nbconvert_exporter": "python",
   "pygments_lexer": "ipython3",
   "version": "3.6.5"
  }
 },
 "nbformat": 4,
 "nbformat_minor": 2
}
