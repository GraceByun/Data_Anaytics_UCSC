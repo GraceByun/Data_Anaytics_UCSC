{
 "cells": [
  {
   "cell_type": "markdown",
   "metadata": {},
   "source": [
    "Question 1: 5points\n",
    "\n",
    "Modified version of problem #414 from project Euler \n",
    "(https://projecteuler.net/problem=414)\n",
    "\n",
    "\n",
    "6174 is a remarkable number; if we sort its digits in increasing order\n",
    "and subtract that number from the number you get when you sort the digits\n",
    "in decreasing order, we get 7641-1467=6174. Even more remarkable is that \n",
    "if we start from any 4 digit number and repeat this process of sorting and\n",
    "subtracting, we'll eventually end up with 6174 or immediately with 0 if \n",
    "all digits are equal. This also works with numbers that have less than 4 \n",
    "digits if we pad the number with leading zeroes until we have 4 digits.\n",
    "E.g. let's start with the number 0837:\n",
    "8730-0378=8352\n",
    "8532-2358=6174\n",
    "\n",
    "6174 is called the Kaprekar constant. The process of sorting and \n",
    "subtracting and repeating this until either 0 or the Kaprekar constant \n",
    "is reached is called the Kaprekar routine.\n",
    "\n",
    "Write a Python program to calculate the number of steps to reach the \n",
    "Kaprekar constant for values 8730 and 9730."
   ]
  },
  {
   "cell_type": "code",
   "execution_count": 5,
   "metadata": {},
   "outputs": [
    {
     "name": "stdout",
     "output_type": "stream",
     "text": [
      "8730 reaches\n",
      "6174\n",
      "the number of steps to reach Karprekar: 1\n",
      "--------------------------------------------\n",
      "9730 reaches\n",
      "6174\n",
      "the number of steps to reach Karprekar: 7\n",
      "--------------------------------------------\n"
     ]
    }
   ],
   "source": [
    "kaprekar = 6174\n",
    "# add zero to the each 3-digit number (it's string) and put them in the list\n",
    "num =['873', '973']\n",
    "lst =[]\n",
    "count = 0\n",
    "\n",
    "for i in num:\n",
    "    x = '0'\n",
    "    i += x\n",
    "    lst.append(i)\n",
    "    \n",
    "#calculate  each number for the Kaprekar constant  \n",
    "for digit in lst:\n",
    "    print(digit,'reaches')\n",
    "    while True: \n",
    "        # separate digits of a number and put them in a list called 'a' for sorting\n",
    "        a = []\n",
    "        for i in str(digit):\n",
    "            a.append(i)\n",
    "            \n",
    "        #sort out digits in ascend and descend ways.\n",
    "        a2 = sorted(a)\n",
    "        a3 = sorted(a, reverse = True)\n",
    "        \n",
    "        #concatenate digits as one(actually it's still a string)\n",
    "        asc = ''\n",
    "        for i in a2:\n",
    "             asc += str(i)\n",
    "        \n",
    "        desc = ''\n",
    "        \n",
    "        for i in a3:\n",
    "            desc += str(i)\n",
    "            \n",
    "        #convert string to integer and calculate \n",
    "        a4 = int(desc) - int(asc)\n",
    "        \n",
    "        # it can calculate until get to the Kaprekar number by using if\n",
    "        if a4 == kaprekar:\n",
    "            print(a4)\n",
    "            print('the number of steps to reach Karprekar:', count)\n",
    "            print('--------------------------------------------')\n",
    "            break\n",
    "        else:\n",
    "            digit = a4 \n",
    "            count+= 1"
   ]
  },
  {
   "cell_type": "markdown",
   "metadata": {},
   "source": [
    "Question 2: 5 points\n",
    "\n",
    "https://en.wikipedia.org/wiki/Run-length_encoding\n",
    "\n",
    "Implement an encoding scheme.\n",
    "\n",
    "A string \n",
    "WWWWWWWWWWWWBWWWWWWWWWWWWBBBWWWWWWWWWWWWWWWWWWWWWWWWBWWWWWWWWWWWWWW \n",
    "has 67 characters. Write a Python program to convert this string to \n",
    "12W1B12W3B24W1B14W. The new string is created\n",
    "by calculating the number of times a characters appears consecutively and\n",
    "placing the character next to it. The new string only needs 18 character,\n",
    "thus compressing the original string by 73%."
   ]
  },
  {
   "cell_type": "code",
   "execution_count": 2,
   "metadata": {},
   "outputs": [
    {
     "name": "stdout",
     "output_type": "stream",
     "text": [
      "12W1B12W3B24W1B14W \n"
     ]
    }
   ],
   "source": [
    "def RunLengthEncoding(string): #create function for compressing the string\n",
    "   \n",
    "    #if if there is no charactersleft behind, it returns  an empty space.\n",
    "    if not string:\n",
    "        return ' ' \n",
    "    else:\n",
    "        character = string[0] \n",
    "        length= len(string)  \n",
    "        i = 1                          \n",
    "        #Set a condition for counting the same characters from the frist and  until reaching the last one\n",
    "        while i < length and character == string[i]: \n",
    "            #count\n",
    "            i += 1 \n",
    "         #return a  rerult and its character and then go again to funtion and counting  the next character(start from i_st character)\n",
    "        return str(i) + character + RunLengthEncoding(string[i:])\n",
    "\n",
    "print(RunLengthEncoding(\"WWWWWWWWWWWWBWWWWWWWWWWWWBBBWWWWWWWWWWWWWWWWWWWWWWWWBWWWWWWWWWWWWWW\"))"
   ]
  },
  {
   "cell_type": "code",
   "execution_count": null,
   "metadata": {},
   "outputs": [],
   "source": []
  }
 ],
 "metadata": {
  "kernelspec": {
   "display_name": "Python 3",
   "language": "python",
   "name": "python3"
  },
  "language_info": {
   "codemirror_mode": {
    "name": "ipython",
    "version": 3
   },
   "file_extension": ".py",
   "mimetype": "text/x-python",
   "name": "python",
   "nbconvert_exporter": "python",
   "pygments_lexer": "ipython3",
   "version": "3.6.5"
  }
 },
 "nbformat": 4,
 "nbformat_minor": 2
}
