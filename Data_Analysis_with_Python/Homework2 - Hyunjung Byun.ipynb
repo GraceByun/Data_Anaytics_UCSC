{
 "cells": [
  {
   "cell_type": "markdown",
   "metadata": {},
   "source": [
    "Question 1: 5 points\n",
    "Problem 282 - Project Euler https://projecteuler.net/problem=282\n",
    "    \n",
    "For non-negative integers m, n, the Ackermann function A(m, n) is \n",
    "defined as follows:\n",
    "\n",
    "See URL for the formula https://en.wikipedia.org/wiki/Ackermann_function\n",
    "\n",
    "Find A(1, 0) = 2, A(2, 2) = 7 and A(3, 4) = 125."
   ]
  },
  {
   "cell_type": "code",
   "execution_count": 1,
   "metadata": {},
   "outputs": [],
   "source": [
    "def A(m, n):\n",
    "    if m == 0:\n",
    "        return (n + 1)\n",
    "    elif m > 0 and n == 0:\n",
    "        return A(m - 1, 1)\n",
    "    elif m > 0 and n > 0:\n",
    "        return A(m - 1, A(m, n - 1)) \n",
    "    else:\n",
    "        return print(\"Enter non-negative integer\")"
   ]
  },
  {
   "cell_type": "code",
   "execution_count": 2,
   "metadata": {},
   "outputs": [
    {
     "name": "stdout",
     "output_type": "stream",
     "text": [
      "2\n"
     ]
    }
   ],
   "source": [
    "print(A(1, 0))"
   ]
  },
  {
   "cell_type": "code",
   "execution_count": 3,
   "metadata": {},
   "outputs": [
    {
     "name": "stdout",
     "output_type": "stream",
     "text": [
      "7\n"
     ]
    }
   ],
   "source": [
    "print(A(2, 2))"
   ]
  },
  {
   "cell_type": "code",
   "execution_count": 4,
   "metadata": {},
   "outputs": [
    {
     "name": "stdout",
     "output_type": "stream",
     "text": [
      "125\n"
     ]
    }
   ],
   "source": [
    "print(A(3, 4))\n"
   ]
  },
  {
   "cell_type": "markdown",
   "metadata": {},
   "source": [
    "Question 2: 5 points\n",
    "\n",
    "Queue \n",
    "A queue follows FIFO (first-in, first-out). FIFO is the case where the \n",
    "\n",
    "first element added is the first element that can be retrieved. Consider \n",
    "\n",
    "a list with values [2, 5, 3, 6]. Create a class called MyQueue that will have \n",
    "\n",
    "two methods: queueadd and queueretrieve to add and pop elements \n",
    "    \n",
    "from the list in FIFO order respectively. After each function call, \n",
    "\n",
    "print the contents of the list. Add 7 to the queue and then follow the \n",
    "\n",
    "FIFO rules to pop elements until the list is empty.\n",
    "\n",
    "\n",
    "Your call to the class will be as follows\n",
    "\n",
    "a = [2, 5, 3, 6]\n",
    "\n",
    "q = MyQueue(a)\n",
    "\n",
    "q.queueadd(7)\n",
    "\n",
    "q.queueretrieve()\n",
    "\n",
    "The output on the screen should similar to \n",
    "\n",
    "1 2 3 7\n",
    "\n",
    "2 3 7\n",
    "\n",
    "3 7\n",
    "\n",
    "7"
   ]
  },
  {
   "cell_type": "code",
   "execution_count": 26,
   "metadata": {},
   "outputs": [],
   "source": [
    "\n",
    "class  MyQueue():\n",
    "    def __init__(self, lst = [ ]):\n",
    "            self.lst = lst\n",
    "            print(lst)\n",
    "\n",
    "    def queueadd(self,num):\n",
    "        self.lst.append(num)\n",
    "        print(self.lst)\n",
    "        return  self.lst\n",
    "    \n",
    "    def queueretrieve(self):\n",
    "        print(self.lst)\n",
    "        while self.lst:\n",
    "            self.lst.pop(0)\n",
    "            print(self.lst)\n",
    "           "
   ]
  },
  {
   "cell_type": "code",
   "execution_count": 27,
   "metadata": {},
   "outputs": [],
   "source": [
    "a = [2, 5, 3, 6]"
   ]
  },
  {
   "cell_type": "code",
   "execution_count": 28,
   "metadata": {
    "scrolled": true
   },
   "outputs": [
    {
     "name": "stdout",
     "output_type": "stream",
     "text": [
      "[2, 5, 3, 6]\n"
     ]
    }
   ],
   "source": [
    "q = MyQueue(a)"
   ]
  },
  {
   "cell_type": "code",
   "execution_count": 29,
   "metadata": {},
   "outputs": [
    {
     "name": "stdout",
     "output_type": "stream",
     "text": [
      "[2, 5, 3, 6, 7]\n"
     ]
    },
    {
     "data": {
      "text/plain": [
       "[2, 5, 3, 6, 7]"
      ]
     },
     "execution_count": 29,
     "metadata": {},
     "output_type": "execute_result"
    }
   ],
   "source": [
    "q.queueadd(7)"
   ]
  },
  {
   "cell_type": "code",
   "execution_count": 30,
   "metadata": {},
   "outputs": [
    {
     "name": "stdout",
     "output_type": "stream",
     "text": [
      "[2, 5, 3, 6, 7]\n",
      "[5, 3, 6, 7]\n",
      "[3, 6, 7]\n",
      "[6, 7]\n",
      "[7]\n",
      "[]\n"
     ]
    }
   ],
   "source": [
    "q.queueretrieve()"
   ]
  },
  {
   "cell_type": "code",
   "execution_count": null,
   "metadata": {},
   "outputs": [],
   "source": []
  }
 ],
 "metadata": {
  "kernelspec": {
   "display_name": "Python 3",
   "language": "python",
   "name": "python3"
  },
  "language_info": {
   "codemirror_mode": {
    "name": "ipython",
    "version": 3
   },
   "file_extension": ".py",
   "mimetype": "text/x-python",
   "name": "python",
   "nbconvert_exporter": "python",
   "pygments_lexer": "ipython3",
   "version": "3.6.5"
  }
 },
 "nbformat": 4,
 "nbformat_minor": 2
}
